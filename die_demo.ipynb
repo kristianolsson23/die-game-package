{
 "cells": [
  {
   "cell_type": "markdown",
   "id": "45762487-d33f-486d-8e38-2cdea04e3528",
   "metadata": {},
   "source": [
    "# Final Project Report\n",
    "\n",
    "* Class: DS 5100\n",
    "* Student Name: Kristian Olsson\n",
    "* Student Net ID: kno5cac\n",
    "* This URL: https://github.com/kristianolsson23/kno5cac_ds5100_montecarlo/blob/main/die_demo.ipynb"
   ]
  },
  {
   "cell_type": "markdown",
   "id": "acf756c1-ecaa-41dc-b6ca-d566eb94560b",
   "metadata": {},
   "source": [
    "# Instructions\n",
    "\n",
    "Follow the instructions in the [Final Project](https://ontoligent.github.io/DS5100-2023-07-R/notebooks/M00_FinalProject/FinalProjectInstructions.html) isntructions and put your work in this notebook.\n",
    "\n",
    "Total points for each subsection under **Deliverables** and **Scenarios** are given in parentheses.\n",
    "\n",
    "Breakdowns of points within subsections are specified within subsection instructions as bulleted lists.\n",
    "\n",
    "This project is worth **50 points**."
   ]
  },
  {
   "cell_type": "markdown",
   "id": "89dc7a32-f682-4402-8c1e-b6ccdb3e0e39",
   "metadata": {},
   "source": [
    "# Deliverables"
   ]
  },
  {
   "cell_type": "markdown",
   "id": "d32cb273-9a40-4909-a7ce-51f6e4958d3c",
   "metadata": {},
   "source": [
    "## The Monte Carlo Module (10)\n",
    "\n",
    "- URL included, appropriately named (1).\n",
    "- Includes all three specified classes (3).\n",
    "- Includes at least all 12 specified methods (6; .5 each)."
   ]
  },
  {
   "cell_type": "markdown",
   "id": "f5f3b070-de9e-4de9-bfae-8974d184aa28",
   "metadata": {},
   "source": [
    "Put the URL to your GitHub repo here.\n",
    "\n",
    "Repo URL:"
   ]
  },
  {
   "cell_type": "markdown",
   "id": "162370fb-3729-4c85-b040-8c25b2c966d2",
   "metadata": {},
   "source": [
    "Paste a copyy of your module here.\n",
    "\n",
    "NOTE: Paste as text, not as code. Use triple backticks to wrap your code blocks."
   ]
  },
  {
   "cell_type": "markdown",
   "id": "e24d0d3f",
   "metadata": {},
   "source": [
    "```python\n",
    "import numpy as np\n",
    "import pandas as pd\n",
    "import random\n",
    "from collections import Counter\n",
    "\n",
    "class Die:\n",
    "    '''\n",
    "    PURPOSE: The Die class imitates an n-sided die. The die has one behavior, which is to be rolled one or more times.\n",
    "    '''\n",
    "\n",
    "    def __init__(self, sides):\n",
    "        '''\n",
    "        PURPOSE: This method initiates a Die object. Each side is given a default weight of 1, which can be changed after the Die object is initiated. \n",
    "     \n",
    "        INPUTS: \n",
    "        sides       NumPy array - containing the sides (face-values) of the Die object. The face-values must be distinct. The face-values must be integers or strings. \n",
    "        '''\n",
    "        if type(sides) != np.ndarray:\n",
    "            raise TypeError(\"The input must be a NumPy array.\")\n",
    "        unique_elements = np.unique(sides)\n",
    "        if len(sides) != len(unique_elements):\n",
    "            raise ValueError(\"The input array must have all distinct values.\")\n",
    "        else:\n",
    "            self.sides = sides \n",
    "            self.weights = [1]*len(sides)\n",
    "            self.dieweights = pd.DataFrame({'weights': self.weights}, index=self.sides)\n",
    "            self.dieweights = self.dieweights.rename_axis('faces')\n",
    "\n",
    "    def change_weight(self, face, new_weight):\n",
    "        '''\n",
    "        PURPOSE: This method changes the weight of a face-value of the Die. \n",
    "\n",
    "        INPUTS: \n",
    "        face        string or integer - the face you want to change the weight of.\n",
    "        new_weight  integer - the new weight for the designated face. \n",
    "        '''\n",
    "        if face not in self.sides: \n",
    "            raise IndexError(\"The input face value does not match any face value of your die.\")\n",
    "        if not isinstance(new_weight, (int, float)):\n",
    "            try:\n",
    "                new_weight = float(new_weight)\n",
    "            except ValueError:\n",
    "                raise TypeError(\"The input weight value is not numeric.\")\n",
    "\n",
    "        self.dieweights.loc[face, 'weights'] = new_weight\n",
    "\n",
    "    def roll(self, rolls=1):\n",
    "        '''\n",
    "        PURPOSE: This method rolls the Die. \n",
    "    \n",
    "        INPUTS: \n",
    "        rolls       integer - the number of times your die should roll.\n",
    "\n",
    "        OUTPUTS: \n",
    "        outcomes    list - the outcomes of each roll.\n",
    "        '''\n",
    "        outcomes = random.choices(self.dieweights.index, weights=self.dieweights['weights'], k=rolls)\n",
    "        return outcomes[0] if rolls == 1 else outcomes\n",
    "\n",
    "    def get_state(self):\n",
    "        '''\n",
    "        PURPOSE: This method returns a dataframe with the state of the Die: the Die faces and their respective weights.\n",
    "\n",
    "        OUTPUTS: \n",
    "        dieweights      DataFrame - containing Die faces and their respective weights.\n",
    "        '''\n",
    "        result = self.dieweights\n",
    "        return result\n",
    "\n",
    "\n",
    "class Game:\n",
    "    '''\n",
    "    PURPOSE: The Game class creates a game consisting of rolling one or more similar dice (Die objects) one or more times. Game objects' behaviors are play a game and keep/show the results of their most recent play.\n",
    "    '''\n",
    "    \n",
    "    def __init__(self, dielist):\n",
    "        '''\n",
    "        PURPOSE: This method initiates a Game object from a list of Die object(s).\n",
    "    \n",
    "        INPUTS: \n",
    "        dielist     list - containing Die objects for the Game. Each die object should have the same number of sides and associated faces, but each die object may have its own weights.\n",
    "        '''\n",
    "        self.dielist = dielist\n",
    "\n",
    "    def play(self, num_rolls):\n",
    "        '''\n",
    "        PURPOSE: This method takes the number of rolls the die should be rolled and plays the Game. \n",
    "    \n",
    "        INPUTS: \n",
    "        num_rolls       integer - the number of times the die (or dice) should be rolled.\n",
    "        '''\n",
    "        play_results = []\n",
    "        for i in range(num_rolls):\n",
    "            roll_outcomes = [die.roll() for die in self.dielist]\n",
    "            play_results.append(roll_outcomes)\n",
    "        results = pd.DataFrame(play_results)\n",
    "        results.columns = [\"die_{}\".format(i+1) for i in range(len(self.dielist))]\n",
    "        results = results.rename_axis('roll_number')\n",
    "        self.results = results\n",
    "\n",
    "    def show_results(self, format = 'wide'):\n",
    "        '''\n",
    "        PURPOSE: This method shows the results of your most recent game.\n",
    "    \n",
    "        INPUTS: \n",
    "        format      'wide' or 'narrow' - the format in which you would like the results of your DataFrame to be formatted.  \n",
    "\n",
    "        OUTPUTS: \n",
    "        results     DataFrame - containing the roll number and the outcomes of the die (or dice) in wide or narrow format. \n",
    "        '''\n",
    "        if format == 'wide':\n",
    "            return self.results\n",
    "        elif format == 'narrow':\n",
    "            narrow = pd.DataFrame(self.results.stack())\n",
    "            narrow.columns = ['outcome']\n",
    "            narrow = narrow.rename_axis(['roll_number', 'die_number'])\n",
    "            return narrow\n",
    "        else:\n",
    "            raise ValueError(\"The format must be 'wide' or 'narrow'.\")\n",
    "\n",
    "\n",
    "class Analyzer:\n",
    "    '''\n",
    "    PURPOSE: The Analyzer class takes the results of a single game and computes various descriptive statistical properties about it.\n",
    "    '''\n",
    "\n",
    "    def __init__(self, game):\n",
    "        '''\n",
    "        PURPOSE: This method initiates a Analyzer object using Game object with the most recent results. \n",
    "    \n",
    "        INPUTS: \n",
    "        game        Game object\n",
    "        '''\n",
    "        if not isinstance(game, Game):\n",
    "            raise ValueError(\"Input game but must be a Game object.\")\n",
    "        else:\n",
    "            self.game = game\n",
    "\n",
    "    def jackpot(self):\n",
    "        '''\n",
    "        PURPOSE: This method calculates the number of times the game resulted in a jackpot i.e. a result in which all faces are the same.\n",
    "\n",
    "        OUTPUTS: \n",
    "        num_jackpots        integer - the number of jackpots in your Game.\n",
    "        '''\n",
    "        num_jackpots = 0\n",
    "        for roll in self.game.results.values:\n",
    "            if all(face == roll[0] for face in roll):\n",
    "                num_jackpots += 1\n",
    "        return num_jackpots\n",
    "\n",
    "    def face_count(self):\n",
    "        '''\n",
    "        PURPOSE: This method returns a DataFrame containing the counts for each face of your Die in each roll.\n",
    "\n",
    "        OUTPUTS: \n",
    "        counts_df       DataFrame - consisting of the die roll as the index and the counts for each face of your Die.\n",
    "        '''\n",
    "        counts_dict = {face: [] for face in self.game.dielist[0].sides}\n",
    "        \n",
    "        for roll in self.game.results.values:\n",
    "            roll_list = list(roll)\n",
    "            for face_value in counts_dict:\n",
    "                face_count = roll_list.count(face_value)\n",
    "                counts_dict[face_value].append(face_count)\n",
    "        counts_df = pd.DataFrame(counts_dict, index=self.game.results.index)\n",
    "        return counts_df\n",
    "    \n",
    "    def combination_count(self):\n",
    "        '''\n",
    "        PURPOSE: This method computes the distinct combinations of faces rolled, along with their counts. Combinations are order-independent and may contain repetitions.\n",
    "\n",
    "        OUTPUTS: \n",
    "        combination_df      DataFrame - containing results. The DataFrame has a MultiIndex of distinct combinations and a column for the associated counts.\n",
    "        '''\n",
    "        combination_list = []\n",
    "\n",
    "        for roll in self.game.results.values:\n",
    "            combination = tuple(sorted(roll))\n",
    "            combination_list.append(combination)\n",
    "\n",
    "        combination_counter = Counter(combination_list)\n",
    "        combination_df = pd.DataFrame({'Count': combination_counter.values()}, index=pd.MultiIndex.from_tuples(combination_counter.keys()))\n",
    "\n",
    "        return combination_df\n",
    "\n",
    "    def permutation_count(self):\n",
    "        '''\n",
    "        PURPOSE: This method computes the permutations of faces rolled, along with their counts. Permutations are order-dependent and may contain repetitions.\n",
    "\n",
    "        OUTPUTS: \n",
    "        permutation_df      DataFrame - containing results. The DataFrame has a MultiIndex of distinct permutations and a column for the associated counts.\n",
    "        '''\n",
    "        permutation_list = []\n",
    "\n",
    "        for roll in self.game.results.values:\n",
    "            permutation = tuple(roll)\n",
    "            permutation_list.append(permutation)\n",
    "\n",
    "        permutation_counter = Counter(permutation_list)\n",
    "        permutation_df = pd.DataFrame({'Count': permutation_counter.values()}, index=pd.MultiIndex.from_tuples(permutation_counter.keys()))\n",
    "\n",
    "        return permutation_df\n",
    "```"
   ]
  },
  {
   "cell_type": "markdown",
   "id": "6377727a-8f0a-491e-9f1c-d9dc225edd35",
   "metadata": {},
   "source": [
    "## Unitest Module (2)\n",
    "\n",
    "Paste a copy of your test module below.\n",
    "\n",
    "NOTE: Paste as text, not as code. Use triple backticks to wrap your code blocks.\n",
    "\n",
    "- All methods have at least one test method (1).\n",
    "- Each method employs one of Unittest's Assert methods (1)."
   ]
  },
  {
   "cell_type": "markdown",
   "id": "08b68fcd",
   "metadata": {},
   "source": [
    "```python\n",
    "import unittest\n",
    "import pandas as pd\n",
    "import numpy as np\n",
    "import montecarlo\n",
    "from montecarlo import Die, Game, Analyzer\n",
    "\n",
    "class MonteCarloTestSuite(unittest.TestCase):\n",
    "    \n",
    "    def test_1_die_initializer(self): \n",
    "        # test initializer type\n",
    "        self.mydiefaces = np.array([1,2,3,4,5,6])\n",
    "        self.mydie1 = Die(self.mydiefaces)\n",
    "        #self.assertEqual(type(self.mydie1), montecarlo.Die)\n",
    "        self.assertTrue(isinstance(self.mydie1, montecarlo.Die))\n",
    "\n",
    "    def test_2_die_get_state(self): \n",
    "        # test that the get_state output is correct\n",
    "        self.mydiefaces = np.array([1,2,3,4,5,6])\n",
    "        self.mydie4 = Die(self.mydiefaces)\n",
    "        self.mydie4.change_weight(1,2)\n",
    "        self.assertEqual(list(self.mydie4.get_state().index), [1,2,3,4,5,6])\n",
    "        self.assertEqual(list(self.mydie4.get_state().weights), [2,1,1,1,1,1])\n",
    "        self.assertTrue(isinstance(self.mydie4.get_state(), pd.DataFrame))\n",
    "\n",
    "    def test_3_die_roll(self): \n",
    "        # test that output of rolling a die 5 times is correct\n",
    "        self.mydiefaces = np.array([1])\n",
    "        self.mydie3 = Die(self.mydiefaces)\n",
    "        self.mydie3.roll(5)\n",
    "        self.assertEqual(self.mydie3.roll(5), [1, 1, 1, 1, 1])\n",
    "        self.assertTrue(isinstance(self.mydie3.roll(5), list))\n",
    "\n",
    "    def test_4_die_change_weight(self):\n",
    "        # change the weight of a face of a die\n",
    "        self.mydiefaces = np.array([1,2,3,4,5,6])\n",
    "        self.mydie2 = Die(self.mydiefaces)\n",
    "        self.mydie2.change_weight(1,2)\n",
    "        self.assertEqual(list(self.mydie2.get_state().weights), [2, 1, 1, 1, 1, 1])\n",
    "\n",
    "    def test_5_game_initializer(self): \n",
    "        # test initializer type\n",
    "        self.mydiefaces = np.array([1,2,3,4,5,6])\n",
    "        self.mydie5 = Die(self.mydiefaces)\n",
    "        self.mydie5.roll(5)\n",
    "        self.mygame5 = Game([self.mydie5,self.mydie5])\n",
    "        self.assertTrue(isinstance(self.mygame5, montecarlo.Game))\n",
    "        #self.assertEqual(type(self.mygame5), montecarlo.Game)\n",
    "\n",
    "    def test_6_game_play(self):\n",
    "        # test size of results of game play\n",
    "        self.mydiefaces = np.array([1,2,3,4,5,6])\n",
    "        self.mydie6 = Die(self.mydiefaces)\n",
    "        self.mygame6 = Game([self.mydie6,self.mydie6])\n",
    "        self.mygame6.play(10)\n",
    "        self.assertEqual(len(self.mygame6.results), 10)\n",
    "        self.assertEqual(len(self.mygame6.results.values[0]), 2)\n",
    "        self.assertTrue(isinstance(self.mygame6.results, pd.DataFrame))\n",
    "\n",
    "    def test_7_game_show_results(self):\n",
    "        # test that the get_state output is correct\n",
    "        self.mydiefaces = np.array([1,2,3,4,5,6])\n",
    "        self.mydie7 = Die(self.mydiefaces)\n",
    "        self.mygame7 = Game([self.mydie7,self.mydie7])\n",
    "        self.mygame7.play(10)\n",
    "        self.wide_results = self.mygame7.show_results()\n",
    "        self.assertTrue(isinstance(self.wide_results, pd.DataFrame))\n",
    "        self.narrow_results = self.mygame7.show_results(format='narrow')\n",
    "        self.assertTrue(isinstance(self.narrow_results, pd.DataFrame))\n",
    "\n",
    "    def test_8_analyzer_initializer(self):\n",
    "        # test initializer type\n",
    "        self.mydiefaces = np.array([1,2,3,4,5,6])\n",
    "        self.mydie8 = Die(self.mydiefaces)\n",
    "        self.mygame8 = Game([self.mydie8,self.mydie8])\n",
    "        self.mygame8.play(10)\n",
    "        self.myanalyzer8 = Analyzer(self.mygame8)\n",
    "        self.assertTrue(isinstance(self.myanalyzer8, montecarlo.Analyzer))\n",
    "        #self.assertEqual(type(self.myanalyzer8), montecarlo.Analyzer)\n",
    "\n",
    "    def test_9_analyzer_jackpot(self):\n",
    "        # test jackpot count\n",
    "        self.mydiefaces = np.array([1])\n",
    "        self.mydie9 = Die(self.mydiefaces)\n",
    "        self.mygame9 = Game([self.mydie9,self.mydie9,self.mydie9])\n",
    "        self.mygame9.play(10)\n",
    "        self.myanalyzer9 = Analyzer(self.mygame9)\n",
    "        self.assertEqual(self.myanalyzer9.jackpot(), 10)\n",
    "        self.assertTrue(isinstance(self.myanalyzer9.jackpot(), int))\n",
    "\n",
    "    def test_10_analyzer_face_count(self):\n",
    "        # test that the face_count output is correct\n",
    "        self.mydiefaces = np.array([1])\n",
    "        self.mydie10 = Die(self.mydiefaces)\n",
    "        self.mygame10 = Game([self.mydie10,self.mydie10,self.mydie10])\n",
    "        self.mygame10.play(10)\n",
    "        self.myanalyzer10 = Analyzer(self.mygame10)\n",
    "        self.assertEqual(list(self.myanalyzer10.face_count().index), [0,1,2,3,4,5,6,7,8,9])\n",
    "        self.assertEqual(list(self.myanalyzer10.face_count()[1]), [3,3,3,3,3,3,3,3,3,3])\n",
    "        self.assertTrue(isinstance(self.myanalyzer10.face_count(), pd.DataFrame))\n",
    "\n",
    "    def test_11_analyzer_combination_count(self):\n",
    "        # test combination output and count\n",
    "        self.mydiefaces = np.array([1])\n",
    "        self.mydie11 = Die(self.mydiefaces)\n",
    "        self.mygame11 = Game([self.mydie11,self.mydie11,self.mydie11])\n",
    "        self.mygame11.play(10)\n",
    "        self.myanalyzer11 = Analyzer(self.mygame11)\n",
    "        self.assertTrue(isinstance(self.myanalyzer11.combination_count(), pd.DataFrame))\n",
    "        self.assertEqual(list(self.myanalyzer11.combination_count()['Count']), [10])\n",
    "\n",
    "    def test_12_analyzer_permutation_count(self):\n",
    "        # test combination output and count\n",
    "        self.mydiefaces = np.array([1])\n",
    "        self.mydie12 = Die(self.mydiefaces)\n",
    "        self.mygame12 = Game([self.mydie12,self.mydie12,self.mydie12])\n",
    "        self.mygame12.play(10)\n",
    "        self.myanalyzer12 = Analyzer(self.mygame12)\n",
    "        self.assertTrue(isinstance(self.myanalyzer12.permutation_count(), pd.DataFrame))\n",
    "        self.assertEqual(list(self.myanalyzer12.permutation_count()['Count']), [10])\n",
    "\n",
    "          \n",
    "if __name__ == '__main__':\n",
    "    \n",
    "    unittest.main(verbosity=3)\n",
    "```"
   ]
  },
  {
   "cell_type": "markdown",
   "id": "3e058d03-29bc-408f-b36d-0605b4f4b8c0",
   "metadata": {
    "tags": []
   },
   "source": [
    "## Unittest Results (3)\n",
    "\n",
    "Put a copy of the results of running your tests from the command line here.\n",
    "\n",
    "Again, paste as text using triple backticks.\n",
    "\n",
    "- All 12 specified methods return OK (3; .25 each)."
   ]
  },
  {
   "cell_type": "markdown",
   "id": "414dd5ae",
   "metadata": {},
   "source": [
    "```\n",
    "test_10_analyzer_face_count (__main__.MonteCarloTestSuite) ... ok\n",
    "test_11_analyzer_combination_count (__main__.MonteCarloTestSuite) ... ok\n",
    "test_12_analyzer_permutation_count (__main__.MonteCarloTestSuite) ... ok\n",
    "test_1_die_initializer (__main__.MonteCarloTestSuite) ... ok\n",
    "test_2_die_get_state (__main__.MonteCarloTestSuite) ... ok\n",
    "test_3_die_roll (__main__.MonteCarloTestSuite) ... ok\n",
    "test_4_die_change_weight (__main__.MonteCarloTestSuite) ... ok\n",
    "test_5_game_initializer (__main__.MonteCarloTestSuite) ... ok\n",
    "test_6_game_play (__main__.MonteCarloTestSuite) ... ok\n",
    "test_7_game_show_results (__main__.MonteCarloTestSuite) ... ok\n",
    "test_8_analyzer_initializer (__main__.MonteCarloTestSuite) ... ok\n",
    "test_9_analyzer_jackpot (__main__.MonteCarloTestSuite) ... ok\n",
    "\n",
    "----------------------------------------------------------------------\n",
    "Ran 12 tests in 0.030s\n",
    "\n",
    "OK\n",
    "```"
   ]
  },
  {
   "cell_type": "markdown",
   "id": "d9ffe8c5-eb2f-4ad1-af76-a46550e4c7ac",
   "metadata": {},
   "source": [
    "## Import (1)\n",
    "\n",
    "Import your module here. This import should refer to the code in your package directory.\n",
    "\n",
    "- Module successuflly imported (1)."
   ]
  },
  {
   "cell_type": "code",
   "execution_count": 22,
   "id": "a05dffb3-e6d6-4f78-9df4-5abd0cf74ca9",
   "metadata": {
    "tags": []
   },
   "outputs": [],
   "source": [
    "import montecarlo.montecarlo as montecarlo"
   ]
  },
  {
   "cell_type": "markdown",
   "id": "f30c4842-65b1-4556-98b6-3fe1a07e1371",
   "metadata": {},
   "source": [
    "## Help Docs (4)\n",
    "\n",
    "Show your docstring documentation by applying `help()` to your imported module.\n",
    "\n",
    "- All methods have a docstring (3; .25 each).\n",
    "- All classes have a docstring (1; .33 each)."
   ]
  },
  {
   "cell_type": "code",
   "execution_count": 23,
   "id": "bf4fbf1f-9885-471c-a0a6-e9ca90e160de",
   "metadata": {
    "tags": []
   },
   "outputs": [
    {
     "name": "stdout",
     "output_type": "stream",
     "text": [
      "Help on module montecarlo.montecarlo in montecarlo:\n",
      "\n",
      "NAME\n",
      "    montecarlo.montecarlo\n",
      "\n",
      "CLASSES\n",
      "    builtins.object\n",
      "        Analyzer\n",
      "        Die\n",
      "        Game\n",
      "    \n",
      "    class Analyzer(builtins.object)\n",
      "     |  Analyzer(game)\n",
      "     |  \n",
      "     |  PURPOSE: The Analyzer class takes the results of a single game and computes various descriptive statistical properties about it.\n",
      "     |  \n",
      "     |  Methods defined here:\n",
      "     |  \n",
      "     |  __init__(self, game)\n",
      "     |      PURPOSE: This method initiates a Analyzer object using Game object with the most recent results. \n",
      "     |      \n",
      "     |      INPUTS: \n",
      "     |      game        Game object\n",
      "     |  \n",
      "     |  combination_count(self)\n",
      "     |      PURPOSE: This method computes the distinct combinations of faces rolled, along with their counts. Combinations are order-independent and may contain repetitions.\n",
      "     |      \n",
      "     |      OUTPUTS: \n",
      "     |      combination_df      DataFrame - containing results. The DataFrame has a MultiIndex of distinct combinations and a column for the associated counts.\n",
      "     |  \n",
      "     |  face_count(self)\n",
      "     |      PURPOSE: This method returns a DataFrame containing the counts for each face of your Die in each roll.\n",
      "     |      \n",
      "     |      OUTPUTS: \n",
      "     |      counts_df       DataFrame - consisting of the die roll as the index and the counts for each face of your Die.\n",
      "     |  \n",
      "     |  jackpot(self)\n",
      "     |      PURPOSE: This method calculates the number of times the game resulted in a jackpot i.e. a result in which all faces are the same.\n",
      "     |      \n",
      "     |      OUTPUTS: \n",
      "     |      num_jackpots        integer - the number of jackpots in your Game.\n",
      "     |  \n",
      "     |  permutation_count(self)\n",
      "     |      PURPOSE: This method computes the permutations of faces rolled, along with their counts. Permutations are order-dependent and may contain repetitions.\n",
      "     |      \n",
      "     |      OUTPUTS: \n",
      "     |      permutation_df      DataFrame - containing results. The DataFrame has a MultiIndex of distinct permutations and a column for the associated counts.\n",
      "     |  \n",
      "     |  ----------------------------------------------------------------------\n",
      "     |  Data descriptors defined here:\n",
      "     |  \n",
      "     |  __dict__\n",
      "     |      dictionary for instance variables (if defined)\n",
      "     |  \n",
      "     |  __weakref__\n",
      "     |      list of weak references to the object (if defined)\n",
      "    \n",
      "    class Die(builtins.object)\n",
      "     |  Die(sides)\n",
      "     |  \n",
      "     |  PURPOSE: The Die class imitates an n-sided die. The die has one behavior, which is to be rolled one or more times.\n",
      "     |  \n",
      "     |  Methods defined here:\n",
      "     |  \n",
      "     |  __init__(self, sides)\n",
      "     |      PURPOSE: This method initiates a Die object. Each side is given a default weight of 1, which can be changed after the Die object is initiated. \n",
      "     |      \n",
      "     |      INPUTS: \n",
      "     |      sides       NumPy array - containing the sides (face-values) of the Die object. The face-values must be distinct. The face-values must be integers or strings.\n",
      "     |  \n",
      "     |  change_weight(self, face, new_weight)\n",
      "     |      PURPOSE: This method changes the weight of a face-value of the Die. \n",
      "     |      \n",
      "     |      INPUTS: \n",
      "     |      face        string or integer - the face you want to change the weight of.\n",
      "     |      new_weight  integer - the new weight for the designated face.\n",
      "     |  \n",
      "     |  get_state(self)\n",
      "     |      PURPOSE: This method returns a dataframe with the state of the Die: the Die faces and their respective weights.\n",
      "     |      \n",
      "     |      OUTPUTS: \n",
      "     |      dieweights      DataFrame - containing Die faces and their respective weights.\n",
      "     |  \n",
      "     |  roll(self, rolls=1)\n",
      "     |      PURPOSE: This method rolls the Die. \n",
      "     |      \n",
      "     |      INPUTS: \n",
      "     |      rolls       integer - the number of times your die should roll.\n",
      "     |      \n",
      "     |      OUTPUTS: \n",
      "     |      outcomes    list - the outcomes of each roll.\n",
      "     |  \n",
      "     |  ----------------------------------------------------------------------\n",
      "     |  Data descriptors defined here:\n",
      "     |  \n",
      "     |  __dict__\n",
      "     |      dictionary for instance variables (if defined)\n",
      "     |  \n",
      "     |  __weakref__\n",
      "     |      list of weak references to the object (if defined)\n",
      "    \n",
      "    class Game(builtins.object)\n",
      "     |  Game(dielist)\n",
      "     |  \n",
      "     |  PURPOSE: The Game class creates a game consisting of rolling one or more similar dice (Die objects) one or more times. Game objects' behaviors are play a game and keep/show the results of their most recent play.\n",
      "     |  \n",
      "     |  Methods defined here:\n",
      "     |  \n",
      "     |  __init__(self, dielist)\n",
      "     |      PURPOSE: This method initiates a Game object from a list of Die object(s).\n",
      "     |      \n",
      "     |      INPUTS: \n",
      "     |      dielist     list - containing Die objects for the Game. Each die object should have the same number of sides and associated faces, but each die object may have its own weights.\n",
      "     |  \n",
      "     |  play(self, num_rolls)\n",
      "     |      PURPOSE: This method takes the number of rolls the die should be rolled and plays the Game. \n",
      "     |      \n",
      "     |      INPUTS: \n",
      "     |      num_rolls       integer - the number of times the die (or dice) should be rolled.\n",
      "     |  \n",
      "     |  show_results(self, format='wide')\n",
      "     |      PURPOSE: This method shows the results of your most recent game.\n",
      "     |      \n",
      "     |      INPUTS: \n",
      "     |      format      'wide' or 'narrow' - the format in which you would like the results of your DataFrame to be formatted.  \n",
      "     |      \n",
      "     |      OUTPUTS: \n",
      "     |      results     DataFrame - containing the roll number and the outcomes of the die (or dice) in wide or narrow format.\n",
      "     |  \n",
      "     |  ----------------------------------------------------------------------\n",
      "     |  Data descriptors defined here:\n",
      "     |  \n",
      "     |  __dict__\n",
      "     |      dictionary for instance variables (if defined)\n",
      "     |  \n",
      "     |  __weakref__\n",
      "     |      list of weak references to the object (if defined)\n",
      "\n",
      "FILE\n",
      "    /Users/kristianolsson/Desktop/DS 5100/kno5cac_ds5100_montecarlo/montecarlo/montecarlo.py\n",
      "\n",
      "\n"
     ]
    }
   ],
   "source": [
    "help(montecarlo)"
   ]
  },
  {
   "cell_type": "markdown",
   "id": "a9defa84-b395-4966-bd1c-5c6c2bb7ed68",
   "metadata": {},
   "source": [
    "## `README.md` File (3)\n",
    "\n",
    "Provide link to the README.md file of your project's repo.\n",
    "\n",
    "- Metadata section or info present (1).\n",
    "- Synopsis section showing how each class is called (1). (All must be included.)\n",
    "- API section listing all classes and methods (1). (All must be included.)"
   ]
  },
  {
   "cell_type": "markdown",
   "id": "ee090b33-d593-48a0-bf35-e739cea0942c",
   "metadata": {},
   "source": [
    "URL: https://github.com/kristianolsson23/kno5cac_ds5100_montecarlo/blob/main/README.md"
   ]
  },
  {
   "cell_type": "markdown",
   "id": "108604c8-8827-42ef-ab59-6b25428fc0ca",
   "metadata": {},
   "source": [
    "## Successful installation (2)\n",
    "\n",
    "Put a screenshot or paste a copy of a terminal session where you successfully install your module with pip.\n",
    "\n",
    "If pasting text, use a preformatted text block to show the results.\n",
    "\n",
    "- Installed with `pip` (1).\n",
    "- Successfully installed message appears (1)."
   ]
  },
  {
   "cell_type": "raw",
   "id": "1278db6a-aa53-4e5c-a749-93a87ab239e0",
   "metadata": {},
   "source": [
    "(base) Kristians-MacBook-Pro:kno5cac_ds5100_montecarlo kristianolsson$ pip install montecarlo\n",
    "Collecting montecarlo\n",
    "  Downloading montecarlo-0.1.17.tar.gz (1.3 kB)\n",
    "  Preparing metadata (setup.py) ... done\n",
    "Building wheels for collected packages: montecarlo\n",
    "  Building wheel for montecarlo (setup.py) ... done\n",
    "  Created wheel for montecarlo: filename=montecarlo-0.1.17-py3-none-any.whl size=1857 sha256=5a9ab46bc4c2e2dd62b0edb1dd789f892184d96671dfb1f866017eba28ba2359\n",
    "  Stored in directory: /Users/kristianolsson/Library/Caches/pip/wheels/9b/96/96/9ba8cf535febd42d4b6f0650941b412502cd6f6471bca1bf12\n",
    "Successfully built montecarlo\n",
    "Installing collected packages: montecarlo\n",
    "Successfully installed montecarlo-0.1.17"
   ]
  },
  {
   "cell_type": "markdown",
   "id": "7c44695d-d1b3-4edf-9f94-e64d7446f199",
   "metadata": {},
   "source": [
    "# Scenarios\n",
    "\n",
    "Use code blocks to perform the tasks for each scenario.\n",
    "\n",
    "Be sure the outputs are visible before submitting."
   ]
  },
  {
   "cell_type": "code",
   "execution_count": 30,
   "id": "96c64203",
   "metadata": {},
   "outputs": [],
   "source": [
    "import numpy as np\n",
    "import pandas as pd\n",
    "import random\n",
    "from matplotlib import pyplot as plt\n",
    "from collections import Counter\n",
    "from montecarlo.montecarlo import Die, Game, Analyzer"
   ]
  },
  {
   "cell_type": "markdown",
   "id": "e2479eae-6fc9-44cd-b8d7-9b22cb501f2a",
   "metadata": {
    "tags": []
   },
   "source": [
    "## Scenario 1: A 2-headed Coin (9)\n",
    "\n",
    "Task 1. Create a fair coin (with faces $H$ and $T$) and one unfair coin in which one of the faces has a weight of $5$ and the others $1$.\n",
    "\n",
    "- Fair coin created (1).\n",
    "- Unfair coin created with weight as specified (1)."
   ]
  },
  {
   "cell_type": "code",
   "execution_count": 31,
   "id": "55ce498e-c75f-4425-9e3e-b635bd6cd9e1",
   "metadata": {},
   "outputs": [],
   "source": [
    "faircoin = np.array(['H','T'])\n",
    "faircoin = Die(faircoin)\n",
    "\n",
    "unfaircoin = np.array(['H','T'])\n",
    "unfaircoin = Die(unfaircoin)\n",
    "unfaircoin.change_weight('H', 5)"
   ]
  },
  {
   "cell_type": "markdown",
   "id": "02b272ab-99da-4b6e-ac2a-555b73e09c07",
   "metadata": {},
   "source": [
    "Task 2. Play a game of $1000$ flips with two fair dice.\n",
    "\n",
    "- Play method called correclty and without error (1)."
   ]
  },
  {
   "cell_type": "code",
   "execution_count": 32,
   "id": "65c92601-d32d-4326-b215-74953aee27f2",
   "metadata": {},
   "outputs": [],
   "source": [
    "fairgame = Game([faircoin, faircoin])\n",
    "fairgame.play(1000)"
   ]
  },
  {
   "cell_type": "markdown",
   "id": "7d9c3dc8-22c1-4cae-81fb-d68d774a05d1",
   "metadata": {},
   "source": [
    "Task 3. Play another game (using a new Game object) of $1000$ flips, this time using two unfair dice and one fair die. For the second unfair die, you can use the same die object twice in the list of dice you pass to the Game object.\n",
    "\n",
    "- New game object created (1).\n",
    "- Play method called correclty and without error (1)."
   ]
  },
  {
   "cell_type": "code",
   "execution_count": 33,
   "id": "d4098bed-1eb2-4084-8d5e-9fda07c3be43",
   "metadata": {},
   "outputs": [],
   "source": [
    "unfairgame = Game([unfaircoin, unfaircoin, faircoin])\n",
    "unfairgame.play(1000)"
   ]
  },
  {
   "cell_type": "markdown",
   "id": "f690ebfc-fe71-4eb2-976d-7ac80ca6c23f",
   "metadata": {},
   "source": [
    "Task 4. For each game, use an Analyzer object to determine the raw frequency of jackpots — i.e. getting either all $H$s or all $T$s.\n",
    "\n",
    "- Analyzer objecs instantiated for both games (1).\n",
    "- Raw frequencies reported for both (1)."
   ]
  },
  {
   "cell_type": "code",
   "execution_count": 34,
   "id": "b26b8b7e-3be7-4476-a9a4-37d97536729e",
   "metadata": {},
   "outputs": [
    {
     "data": {
      "text/plain": [
       "477"
      ]
     },
     "execution_count": 34,
     "metadata": {},
     "output_type": "execute_result"
    }
   ],
   "source": [
    "fairanalyzer = Analyzer(fairgame)\n",
    "fairanalyzer.jackpot()"
   ]
  },
  {
   "cell_type": "code",
   "execution_count": 35,
   "id": "45b4cb51",
   "metadata": {},
   "outputs": [
    {
     "data": {
      "text/plain": [
       "374"
      ]
     },
     "execution_count": 35,
     "metadata": {},
     "output_type": "execute_result"
    }
   ],
   "source": [
    "unfairanalyzer = Analyzer(unfairgame)\n",
    "unfairanalyzer.jackpot()"
   ]
  },
  {
   "cell_type": "markdown",
   "id": "b73d233c-445e-40cd-8858-0c5e1f097105",
   "metadata": {},
   "source": [
    "Task 5. For each analyzer, compute relative frequency as the number of jackpots over the total number of rolls.\n",
    "\n",
    "- Both relative frequencies computed (1)."
   ]
  },
  {
   "cell_type": "code",
   "execution_count": 36,
   "id": "9a96b31b-1b9d-496e-be3e-4bf83c45ec3a",
   "metadata": {},
   "outputs": [
    {
     "data": {
      "text/plain": [
       "0.477"
      ]
     },
     "execution_count": 36,
     "metadata": {},
     "output_type": "execute_result"
    }
   ],
   "source": [
    "fairanalyzer.jackpot()/1000"
   ]
  },
  {
   "cell_type": "code",
   "execution_count": 37,
   "id": "d2539ffc",
   "metadata": {},
   "outputs": [
    {
     "data": {
      "text/plain": [
       "0.374"
      ]
     },
     "execution_count": 37,
     "metadata": {},
     "output_type": "execute_result"
    }
   ],
   "source": [
    "unfairanalyzer.jackpot()/1000"
   ]
  },
  {
   "cell_type": "markdown",
   "id": "a6e1e734-7f5c-4721-8ba4-2f3a424cf984",
   "metadata": {},
   "source": [
    "Task 6. Show your results, comparing the two relative frequencies, in a simple bar chart.\n",
    "\n",
    "- Bar chart plotted and correct (1)."
   ]
  },
  {
   "cell_type": "code",
   "execution_count": 38,
   "id": "473fa67c-aa53-4aa3-a0b7-e8772b3f6ed3",
   "metadata": {},
   "outputs": [
    {
     "data": {
      "image/png": "[encoded data removed]",
      "text/plain": [
       "<Figure size 1000x500 with 1 Axes>"
      ]
     },
     "metadata": {},
     "output_type": "display_data"
    }
   ],
   "source": [
    "data = {'Method': ['Fair Game', 'Unfair Game'],\n",
    "        'Relative_Frequencies': [fairanalyzer.jackpot()/1000, unfairanalyzer.jackpot()/1000]}\n",
    "\n",
    "df = pd.DataFrame(data)\n",
    "\n",
    "plt.figure(figsize=(10, 5))\n",
    "plt.bar(df.Method, df.Relative_Frequencies)\n",
    "plt.ylabel('Relative Frequencies')\n",
    "plt.xlabel('Game Type')\n",
    "plt.suptitle('Relative Frequencies of Fair and Unfair Coin (from 1000 rolls)', fontsize='large')\n",
    "for bar in plt.bar(df.Method, df.Relative_Frequencies):\n",
    "    yval = bar.get_height()\n",
    "    plt.text(bar.get_x() + bar.get_width()/2, yval, round(yval, 2), va='bottom', ha='center')\n"
   ]
  },
  {
   "cell_type": "markdown",
   "id": "725cfa5b-e4b7-47c9-86aa-8d9e1fe6c8c7",
   "metadata": {},
   "source": [
    "## Scenario 2: A 6-sided Die (9)\n",
    "\n",
    "Task 1. Create three dice, each with six sides having the faces 1 through 6.\n",
    "\n",
    "- Three die objects created (1)."
   ]
  },
  {
   "cell_type": "code",
   "execution_count": 39,
   "id": "6a8bc611-325a-4e05-88d5-980e0a2cf7c5",
   "metadata": {},
   "outputs": [],
   "source": [
    "die1 = Die(np.array([1, 2, 3, 4, 5, 6]))\n",
    "die2 = Die(np.array([1, 2, 3, 4, 5, 6]))\n",
    "die3 = Die(np.array([1, 2, 3, 4, 5, 6]))"
   ]
  },
  {
   "cell_type": "markdown",
   "id": "2ed3ad26-fbe9-43bd-9ad7-f683a4191d12",
   "metadata": {},
   "source": [
    "Task 2. Convert one of the dice to an unfair one by weighting the face $6$ five times more than the other weights (i.e. it has weight of 5 and the others a weight of 1 each).\n",
    "\n",
    "- Unfair die created with proper call to weight change method (1)."
   ]
  },
  {
   "cell_type": "code",
   "execution_count": 40,
   "id": "e33dd18f-7f90-456d-a680-61c08a328e21",
   "metadata": {},
   "outputs": [],
   "source": [
    "die1.change_weight(6,5)"
   ]
  },
  {
   "cell_type": "markdown",
   "id": "7f6c062a-4c5b-45b9-96b8-76a0354c7e47",
   "metadata": {},
   "source": [
    "Task 3. Convert another of the dice to be unfair by weighting the face $1$ five times more than the others.\n",
    "\n",
    "- Unfair die created with proper call to weight change method (1)."
   ]
  },
  {
   "cell_type": "code",
   "execution_count": 41,
   "id": "01133a4e-6b06-4246-8d90-8e6d6995be51",
   "metadata": {},
   "outputs": [],
   "source": [
    "die2.change_weight(1,5)"
   ]
  },
  {
   "cell_type": "markdown",
   "id": "f0ed31cb-0a3c-4eb2-b85e-6ed6b2eb6e58",
   "metadata": {},
   "source": [
    "Task 4. Play a game of $10000$ rolls with $5$ fair dice.\n",
    "\n",
    "- Game class properly instantiated (1). \n",
    "- Play method called properly (1)."
   ]
  },
  {
   "cell_type": "code",
   "execution_count": 42,
   "id": "e92395a4-9ed8-4cb0-8c85-38768a784ffc",
   "metadata": {},
   "outputs": [],
   "source": [
    "fairgame = Game([die3, die3, die3, die3, die3])\n",
    "fairgame.play(10000)"
   ]
  },
  {
   "cell_type": "markdown",
   "id": "7814b402-46a4-40e5-8141-20e05c3e646b",
   "metadata": {},
   "source": [
    "Task 5. Play another game of $10000$ rolls, this time with $2$ unfair dice, one as defined in steps #2 and #3 respectively, and $3$ fair dice.\n",
    "\n",
    "- Game class properly instantiated (1). \n",
    "- Play method called properly (1)."
   ]
  },
  {
   "cell_type": "code",
   "execution_count": 43,
   "id": "7cd58fba-b2a5-4d5d-bc6d-2a7a68d18c4f",
   "metadata": {},
   "outputs": [],
   "source": [
    "unfairgame = Game([die1, die2, die3, die3, die3])\n",
    "unfairgame.play(10000)"
   ]
  },
  {
   "cell_type": "markdown",
   "id": "7b6cd372-2bb8-4df8-ade1-8f48bc300955",
   "metadata": {},
   "source": [
    "Task 6. For each game, use an Analyzer object to determine the relative frequency of jackpots and show your results, comparing the two relative frequencies, in a simple bar chart.\n",
    "\n",
    "- Jackpot methods called (1).\n",
    "- Graph produced (1)."
   ]
  },
  {
   "cell_type": "code",
   "execution_count": 44,
   "id": "bbdcf695-8937-406e-9b53-aa0b9ee3c59a",
   "metadata": {},
   "outputs": [
    {
     "data": {
      "text/plain": [
       "0.0007"
      ]
     },
     "execution_count": 44,
     "metadata": {},
     "output_type": "execute_result"
    }
   ],
   "source": [
    "fairanalyzer = Analyzer(fairgame)\n",
    "fairanalyzer.jackpot()/10000"
   ]
  },
  {
   "cell_type": "code",
   "execution_count": 45,
   "id": "9914f1a2",
   "metadata": {},
   "outputs": [
    {
     "data": {
      "text/plain": [
       "0.0004"
      ]
     },
     "execution_count": 45,
     "metadata": {},
     "output_type": "execute_result"
    }
   ],
   "source": [
    "unfairanalyzer = Analyzer(unfairgame)\n",
    "unfairanalyzer.jackpot()/10000"
   ]
  },
  {
   "cell_type": "code",
   "execution_count": 46,
   "id": "09458fa8",
   "metadata": {},
   "outputs": [
    {
     "data": {
      "image/png": "[encoded data removed]",
      "text/plain": [
       "<Figure size 1000x500 with 1 Axes>"
      ]
     },
     "metadata": {},
     "output_type": "display_data"
    }
   ],
   "source": [
    "data = {'Method': ['Fair Game', 'Unfair Game'],\n",
    "        'Relative_Frequencies': [fairanalyzer.jackpot()/10000, unfairanalyzer.jackpot()/10000]}\n",
    "\n",
    "df = pd.DataFrame(data)\n",
    "\n",
    "plt.figure(figsize=(10, 5))\n",
    "plt.bar(df.Method, df.Relative_Frequencies)\n",
    "plt.ylabel('Relative Frequencies')\n",
    "plt.xlabel('Game Type')\n",
    "plt.suptitle('Relative Frequencies of Fair and Unfair Coin (from 10000 rolls)', fontsize='large')\n",
    "for bar in plt.bar(df.Method, df.Relative_Frequencies):\n",
    "    yval = bar.get_height()\n",
    "    plt.text(bar.get_x() + bar.get_width()/2, yval, yval, va='bottom', ha='center')\n"
   ]
  },
  {
   "cell_type": "markdown",
   "id": "9f04e9be-8fcf-4ea4-a391-6614608285f8",
   "metadata": {},
   "source": [
    "## Scenario 3: Letters of the Alphabet (7)\n",
    "\n",
    "Task 1. Create a \"die\" of letters from $A$ to $Z$ with weights based on their frequency of usage as found in the data file `english_letters.txt`. Use the frequencies (i.e. raw counts) as weights.\n",
    "\n",
    "- Die correctly instantiated with source file data (1).\n",
    "- Weights properly applied using weight setting method (1)."
   ]
  },
  {
   "cell_type": "code",
   "execution_count": 58,
   "id": "b0ceb771-3cdf-4d8f-8c2c-020806bbb909",
   "metadata": {},
   "outputs": [
    {
     "data": {
      "text/html": [
       "<div>\n",
       "<style scoped>\n",
       "    .dataframe tbody tr th:only-of-type {\n",
       "        vertical-align: middle;\n",
       "    }\n",
       "\n",
       "    .dataframe tbody tr th {\n",
       "        vertical-align: top;\n",
       "    }\n",
       "\n",
       "    .dataframe thead th {\n",
       "        text-align: right;\n",
       "    }\n",
       "</style>\n",
       "<table border=\"1\" class=\"dataframe\">\n",
       "  <thead>\n",
       "    <tr style=\"text-align: right;\">\n",
       "      <th></th>\n",
       "      <th>1</th>\n",
       "    </tr>\n",
       "    <tr>\n",
       "      <th>0</th>\n",
       "      <th></th>\n",
       "    </tr>\n",
       "  </thead>\n",
       "  <tbody>\n",
       "    <tr>\n",
       "      <th>E</th>\n",
       "      <td>529117365</td>\n",
       "    </tr>\n",
       "    <tr>\n",
       "      <th>T</th>\n",
       "      <td>390965105</td>\n",
       "    </tr>\n",
       "    <tr>\n",
       "      <th>A</th>\n",
       "      <td>374061888</td>\n",
       "    </tr>\n",
       "    <tr>\n",
       "      <th>O</th>\n",
       "      <td>326627740</td>\n",
       "    </tr>\n",
       "    <tr>\n",
       "      <th>I</th>\n",
       "      <td>320410057</td>\n",
       "    </tr>\n",
       "    <tr>\n",
       "      <th>N</th>\n",
       "      <td>313720540</td>\n",
       "    </tr>\n",
       "    <tr>\n",
       "      <th>S</th>\n",
       "      <td>294300210</td>\n",
       "    </tr>\n",
       "    <tr>\n",
       "      <th>R</th>\n",
       "      <td>277000841</td>\n",
       "    </tr>\n",
       "    <tr>\n",
       "      <th>H</th>\n",
       "      <td>216768975</td>\n",
       "    </tr>\n",
       "    <tr>\n",
       "      <th>L</th>\n",
       "      <td>183996130</td>\n",
       "    </tr>\n",
       "  </tbody>\n",
       "</table>\n",
       "</div>"
      ],
      "text/plain": [
       "           1\n",
       "0           \n",
       "E  529117365\n",
       "T  390965105\n",
       "A  374061888\n",
       "O  326627740\n",
       "I  320410057\n",
       "N  313720540\n",
       "S  294300210\n",
       "R  277000841\n",
       "H  216768975\n",
       "L  183996130"
      ]
     },
     "execution_count": 58,
     "metadata": {},
     "output_type": "execute_result"
    }
   ],
   "source": [
    "letters = pd.read_csv('english_letters.txt', delimiter = ' ', header=None)\n",
    "letters = letters.set_index(0)\n",
    "letters.head(10)"
   ]
  },
  {
   "cell_type": "code",
   "execution_count": 59,
   "id": "37d8e218",
   "metadata": {},
   "outputs": [],
   "source": [
    "alphabet = Die(np.array(letters.index))"
   ]
  },
  {
   "cell_type": "code",
   "execution_count": 60,
   "id": "5c6d8588",
   "metadata": {},
   "outputs": [],
   "source": [
    "for thisface in list(alphabet.get_state().index):\n",
    "    thisweight = letters.loc[thisface, 1]\n",
    "    alphabet.change_weight(thisface, thisweight)"
   ]
  },
  {
   "cell_type": "code",
   "execution_count": 55,
   "id": "9572d712",
   "metadata": {},
   "outputs": [
    {
     "data": {
      "text/html": [
       "<div>\n",
       "<style scoped>\n",
       "    .dataframe tbody tr th:only-of-type {\n",
       "        vertical-align: middle;\n",
       "    }\n",
       "\n",
       "    .dataframe tbody tr th {\n",
       "        vertical-align: top;\n",
       "    }\n",
       "\n",
       "    .dataframe thead th {\n",
       "        text-align: right;\n",
       "    }\n",
       "</style>\n",
       "<table border=\"1\" class=\"dataframe\">\n",
       "  <thead>\n",
       "    <tr style=\"text-align: right;\">\n",
       "      <th></th>\n",
       "      <th>weights</th>\n",
       "    </tr>\n",
       "    <tr>\n",
       "      <th>faces</th>\n",
       "      <th></th>\n",
       "    </tr>\n",
       "  </thead>\n",
       "  <tbody>\n",
       "    <tr>\n",
       "      <th>E</th>\n",
       "      <td>529117365</td>\n",
       "    </tr>\n",
       "    <tr>\n",
       "      <th>T</th>\n",
       "      <td>390965105</td>\n",
       "    </tr>\n",
       "    <tr>\n",
       "      <th>A</th>\n",
       "      <td>374061888</td>\n",
       "    </tr>\n",
       "    <tr>\n",
       "      <th>O</th>\n",
       "      <td>326627740</td>\n",
       "    </tr>\n",
       "    <tr>\n",
       "      <th>I</th>\n",
       "      <td>320410057</td>\n",
       "    </tr>\n",
       "    <tr>\n",
       "      <th>N</th>\n",
       "      <td>313720540</td>\n",
       "    </tr>\n",
       "    <tr>\n",
       "      <th>S</th>\n",
       "      <td>294300210</td>\n",
       "    </tr>\n",
       "    <tr>\n",
       "      <th>R</th>\n",
       "      <td>277000841</td>\n",
       "    </tr>\n",
       "    <tr>\n",
       "      <th>H</th>\n",
       "      <td>216768975</td>\n",
       "    </tr>\n",
       "    <tr>\n",
       "      <th>L</th>\n",
       "      <td>183996130</td>\n",
       "    </tr>\n",
       "    <tr>\n",
       "      <th>D</th>\n",
       "      <td>169330528</td>\n",
       "    </tr>\n",
       "    <tr>\n",
       "      <th>C</th>\n",
       "      <td>138416451</td>\n",
       "    </tr>\n",
       "    <tr>\n",
       "      <th>U</th>\n",
       "      <td>117295780</td>\n",
       "    </tr>\n",
       "    <tr>\n",
       "      <th>M</th>\n",
       "      <td>110504544</td>\n",
       "    </tr>\n",
       "    <tr>\n",
       "      <th>F</th>\n",
       "      <td>95422055</td>\n",
       "    </tr>\n",
       "    <tr>\n",
       "      <th>G</th>\n",
       "      <td>91258980</td>\n",
       "    </tr>\n",
       "    <tr>\n",
       "      <th>P</th>\n",
       "      <td>90376747</td>\n",
       "    </tr>\n",
       "    <tr>\n",
       "      <th>W</th>\n",
       "      <td>79843664</td>\n",
       "    </tr>\n",
       "    <tr>\n",
       "      <th>Y</th>\n",
       "      <td>75294515</td>\n",
       "    </tr>\n",
       "    <tr>\n",
       "      <th>B</th>\n",
       "      <td>70195826</td>\n",
       "    </tr>\n",
       "    <tr>\n",
       "      <th>V</th>\n",
       "      <td>46337161</td>\n",
       "    </tr>\n",
       "    <tr>\n",
       "      <th>K</th>\n",
       "      <td>35373464</td>\n",
       "    </tr>\n",
       "    <tr>\n",
       "      <th>J</th>\n",
       "      <td>9613410</td>\n",
       "    </tr>\n",
       "    <tr>\n",
       "      <th>X</th>\n",
       "      <td>8369915</td>\n",
       "    </tr>\n",
       "    <tr>\n",
       "      <th>Z</th>\n",
       "      <td>4975847</td>\n",
       "    </tr>\n",
       "    <tr>\n",
       "      <th>Q</th>\n",
       "      <td>4550166</td>\n",
       "    </tr>\n",
       "  </tbody>\n",
       "</table>\n",
       "</div>"
      ],
      "text/plain": [
       "         weights\n",
       "faces           \n",
       "E      529117365\n",
       "T      390965105\n",
       "A      374061888\n",
       "O      326627740\n",
       "I      320410057\n",
       "N      313720540\n",
       "S      294300210\n",
       "R      277000841\n",
       "H      216768975\n",
       "L      183996130\n",
       "D      169330528\n",
       "C      138416451\n",
       "U      117295780\n",
       "M      110504544\n",
       "F       95422055\n",
       "G       91258980\n",
       "P       90376747\n",
       "W       79843664\n",
       "Y       75294515\n",
       "B       70195826\n",
       "V       46337161\n",
       "K       35373464\n",
       "J        9613410\n",
       "X        8369915\n",
       "Z        4975847\n",
       "Q        4550166"
      ]
     },
     "execution_count": 55,
     "metadata": {},
     "output_type": "execute_result"
    }
   ],
   "source": [
    "alphabet.get_state()"
   ]
  },
  {
   "cell_type": "markdown",
   "id": "88e2e14a-6223-470a-a2c8-bca1120d7a5b",
   "metadata": {},
   "source": [
    "Task 2. Play a game involving $4$ of these dice with $1000$ rolls.\n",
    "\n",
    "- Game play method properly called (1)."
   ]
  },
  {
   "cell_type": "code",
   "execution_count": 56,
   "id": "2ae087cc-936d-4f1e-bddb-a7c179d139e0",
   "metadata": {},
   "outputs": [],
   "source": [
    "game4 = Game([alphabet,alphabet,alphabet,alphabet])\n",
    "game4.play(1000)"
   ]
  },
  {
   "cell_type": "markdown",
   "id": "3b9ff800-bf1f-4f66-9d7f-ff57a648e9f0",
   "metadata": {},
   "source": [
    "Task 3. Determine how many permutations in your results are actual English words, based on the vocabulary found in `scrabble_words.txt`.\n",
    "\n",
    "- Use permutation method (1).\n",
    "- Get count as difference between permutations and vocabulary (1)."
   ]
  },
  {
   "cell_type": "code",
   "execution_count": 57,
   "id": "ed1c7fa0-cfa3-4cf4-9fd0-9f84b86b0f64",
   "metadata": {},
   "outputs": [
    {
     "data": {
      "text/html": [
       "<div>\n",
       "<style scoped>\n",
       "    .dataframe tbody tr th:only-of-type {\n",
       "        vertical-align: middle;\n",
       "    }\n",
       "\n",
       "    .dataframe tbody tr th {\n",
       "        vertical-align: top;\n",
       "    }\n",
       "\n",
       "    .dataframe thead th {\n",
       "        text-align: right;\n",
       "    }\n",
       "</style>\n",
       "<table border=\"1\" class=\"dataframe\">\n",
       "  <thead>\n",
       "    <tr style=\"text-align: right;\">\n",
       "      <th></th>\n",
       "      <th>0</th>\n",
       "    </tr>\n",
       "  </thead>\n",
       "  <tbody>\n",
       "    <tr>\n",
       "      <th>0</th>\n",
       "      <td>AA</td>\n",
       "    </tr>\n",
       "    <tr>\n",
       "      <th>1</th>\n",
       "      <td>AAH</td>\n",
       "    </tr>\n",
       "    <tr>\n",
       "      <th>2</th>\n",
       "      <td>AAHED</td>\n",
       "    </tr>\n",
       "    <tr>\n",
       "      <th>3</th>\n",
       "      <td>AAHING</td>\n",
       "    </tr>\n",
       "    <tr>\n",
       "      <th>4</th>\n",
       "      <td>AAHS</td>\n",
       "    </tr>\n",
       "    <tr>\n",
       "      <th>5</th>\n",
       "      <td>AAL</td>\n",
       "    </tr>\n",
       "    <tr>\n",
       "      <th>6</th>\n",
       "      <td>AALII</td>\n",
       "    </tr>\n",
       "    <tr>\n",
       "      <th>7</th>\n",
       "      <td>AALIIS</td>\n",
       "    </tr>\n",
       "    <tr>\n",
       "      <th>8</th>\n",
       "      <td>AALS</td>\n",
       "    </tr>\n",
       "    <tr>\n",
       "      <th>9</th>\n",
       "      <td>AARDVARK</td>\n",
       "    </tr>\n",
       "  </tbody>\n",
       "</table>\n",
       "</div>"
      ],
      "text/plain": [
       "          0\n",
       "0        AA\n",
       "1       AAH\n",
       "2     AAHED\n",
       "3    AAHING\n",
       "4      AAHS\n",
       "5       AAL\n",
       "6     AALII\n",
       "7    AALIIS\n",
       "8      AALS\n",
       "9  AARDVARK"
      ]
     },
     "execution_count": 57,
     "metadata": {},
     "output_type": "execute_result"
    }
   ],
   "source": [
    "scrabble = pd.read_csv('scrabble_words.txt', header=None)\n",
    "scrabble.head(10)"
   ]
  },
  {
   "cell_type": "code",
   "execution_count": 62,
   "id": "e3198f94-635b-4304-88e9-bfcea5d0cf5a",
   "metadata": {},
   "outputs": [
    {
     "data": {
      "text/plain": [
       "37"
      ]
     },
     "execution_count": 62,
     "metadata": {},
     "output_type": "execute_result"
    }
   ],
   "source": [
    "game4analyzer = Analyzer(game4)\n",
    "game4analyzer.permutation_count()\n",
    "len(game4analyzer.permutation_count().index.map(\"\".join).intersection(scrabble[0]))"
   ]
  },
  {
   "cell_type": "markdown",
   "id": "fcf068cf-381a-4b3e-ac3a-0510eb4dbdb0",
   "metadata": {},
   "source": [
    "Task 4. Repeat steps #2 and #3, this time with $5$ dice. How many actual words does this produce? Which produces more?\n",
    "\n",
    "- Successfully repreats steps (1).\n",
    "- Identifies parameter with most found words (1)."
   ]
  },
  {
   "cell_type": "code",
   "execution_count": 63,
   "id": "1929da16",
   "metadata": {},
   "outputs": [
    {
     "data": {
      "text/html": [
       "<div>\n",
       "<style scoped>\n",
       "    .dataframe tbody tr th:only-of-type {\n",
       "        vertical-align: middle;\n",
       "    }\n",
       "\n",
       "    .dataframe tbody tr th {\n",
       "        vertical-align: top;\n",
       "    }\n",
       "\n",
       "    .dataframe thead th {\n",
       "        text-align: right;\n",
       "    }\n",
       "</style>\n",
       "<table border=\"1\" class=\"dataframe\">\n",
       "  <thead>\n",
       "    <tr style=\"text-align: right;\">\n",
       "      <th></th>\n",
       "      <th></th>\n",
       "      <th></th>\n",
       "      <th></th>\n",
       "      <th></th>\n",
       "      <th>Count</th>\n",
       "    </tr>\n",
       "  </thead>\n",
       "  <tbody>\n",
       "    <tr>\n",
       "      <th>A</th>\n",
       "      <th>L</th>\n",
       "      <th>A</th>\n",
       "      <th>V</th>\n",
       "      <th>G</th>\n",
       "      <td>1</td>\n",
       "    </tr>\n",
       "    <tr>\n",
       "      <th>N</th>\n",
       "      <th>H</th>\n",
       "      <th>D</th>\n",
       "      <th>B</th>\n",
       "      <th>C</th>\n",
       "      <td>1</td>\n",
       "    </tr>\n",
       "    <tr>\n",
       "      <th>U</th>\n",
       "      <th>G</th>\n",
       "      <th>I</th>\n",
       "      <th>U</th>\n",
       "      <th>I</th>\n",
       "      <td>1</td>\n",
       "    </tr>\n",
       "    <tr>\n",
       "      <th>I</th>\n",
       "      <th>H</th>\n",
       "      <th>L</th>\n",
       "      <th>E</th>\n",
       "      <th>Y</th>\n",
       "      <td>1</td>\n",
       "    </tr>\n",
       "    <tr>\n",
       "      <th>R</th>\n",
       "      <th>L</th>\n",
       "      <th>W</th>\n",
       "      <th>A</th>\n",
       "      <th>O</th>\n",
       "      <td>1</td>\n",
       "    </tr>\n",
       "    <tr>\n",
       "      <th>...</th>\n",
       "      <th>...</th>\n",
       "      <th>...</th>\n",
       "      <th>...</th>\n",
       "      <th>...</th>\n",
       "      <td>...</td>\n",
       "    </tr>\n",
       "    <tr>\n",
       "      <th>N</th>\n",
       "      <th>I</th>\n",
       "      <th>N</th>\n",
       "      <th>O</th>\n",
       "      <th>N</th>\n",
       "      <td>1</td>\n",
       "    </tr>\n",
       "    <tr>\n",
       "      <th>L</th>\n",
       "      <th>I</th>\n",
       "      <th>M</th>\n",
       "      <th>S</th>\n",
       "      <th>N</th>\n",
       "      <td>1</td>\n",
       "    </tr>\n",
       "    <tr>\n",
       "      <th>H</th>\n",
       "      <th>H</th>\n",
       "      <th>A</th>\n",
       "      <th>O</th>\n",
       "      <th>E</th>\n",
       "      <td>1</td>\n",
       "    </tr>\n",
       "    <tr>\n",
       "      <th>A</th>\n",
       "      <th>I</th>\n",
       "      <th>M</th>\n",
       "      <th>T</th>\n",
       "      <th>O</th>\n",
       "      <td>1</td>\n",
       "    </tr>\n",
       "    <tr>\n",
       "      <th>M</th>\n",
       "      <th>E</th>\n",
       "      <th>L</th>\n",
       "      <th>R</th>\n",
       "      <th>L</th>\n",
       "      <td>1</td>\n",
       "    </tr>\n",
       "  </tbody>\n",
       "</table>\n",
       "<p>1000 rows × 1 columns</p>\n",
       "</div>"
      ],
      "text/plain": [
       "           Count\n",
       "A L A V G      1\n",
       "N H D B C      1\n",
       "U G I U I      1\n",
       "I H L E Y      1\n",
       "R L W A O      1\n",
       "...          ...\n",
       "N I N O N      1\n",
       "L I M S N      1\n",
       "H H A O E      1\n",
       "A I M T O      1\n",
       "M E L R L      1\n",
       "\n",
       "[1000 rows x 1 columns]"
      ]
     },
     "execution_count": 63,
     "metadata": {},
     "output_type": "execute_result"
    }
   ],
   "source": [
    "game5 = Game([alphabet,alphabet,alphabet,alphabet,alphabet])\n",
    "game5.play(1000)\n",
    "game5analyzer = Analyzer(game5)\n",
    "game5analyzer.permutation_count()"
   ]
  },
  {
   "cell_type": "code",
   "execution_count": 64,
   "id": "cec1f05a",
   "metadata": {},
   "outputs": [
    {
     "data": {
      "text/plain": [
       "9"
      ]
     },
     "execution_count": 64,
     "metadata": {},
     "output_type": "execute_result"
    }
   ],
   "source": [
    "len(game5analyzer.permutation_count().index.map(\"\".join).intersection(scrabble[0]))"
   ]
  },
  {
   "cell_type": "markdown",
   "id": "a43531ea",
   "metadata": {},
   "source": [
    "The permutations of the game with 4 sets of the alphabet produces more words compared to the game with 5 sets of the alphabet."
   ]
  },
  {
   "cell_type": "markdown",
   "id": "c278a60d-a4dd-48df-8317-650185f7f0ca",
   "metadata": {},
   "source": [
    "# Submission"
   ]
  },
  {
   "cell_type": "markdown",
   "id": "a2b34ea0-96d3-4e0a-ac65-00a1cf287008",
   "metadata": {},
   "source": [
    "When finished completing the above tasks, save this file to your local repo (and within your project), and them push it to your GitHub repo.\n",
    "\n",
    "Then convert this file to a PDF and submit it to GradeScope according to the assignment instructions in Canvas."
   ]
  }
 ],
 "metadata": {
  "kernelspec": {
   "display_name": "Python 3 (ipykernel)",
   "language": "python",
   "name": "python3"
  },
  "language_info": {
   "codemirror_mode": {
    "name": "ipython",
    "version": 3
   },
   "file_extension": ".py",
   "mimetype": "text/x-python",
   "name": "python",
   "nbconvert_exporter": "python",
   "pygments_lexer": "ipython3",
   "version": "3.10.9"
  },
  "toc-autonumbering": true,
  "widgets": {
   "application/vnd.jupyter.widget-state+json": {
    "state": {},
    "version_major": 2,
    "version_minor": 0
   }
  }
 },
 "nbformat": 4,
 "nbformat_minor": 5
}
